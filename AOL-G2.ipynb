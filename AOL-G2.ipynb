{
 "cells": [
  {
   "cell_type": "markdown",
   "metadata": {},
   "source": [
    "Import Library Yang dibutuhkan"
   ]
  },
  {
   "cell_type": "code",
   "execution_count": null,
   "metadata": {},
   "outputs": [],
   "source": []
  },
  {
   "cell_type": "code",
   "execution_count": 5,
   "metadata": {},
   "outputs": [],
   "source": [
    "import pandas as pd\n",
    "import matplotlib.pyplot as plt\n",
    "\n",
    "import os\n",
    "import numpy as np\n",
    "from tqdm import tqdm\n",
    "import seaborn as sns\n",
    "from datetime import datetime as dt\n",
    "\n",
    "from sklearn.preprocessing import RobustScaler,LabelEncoder, MultiLabelBinarizer, OneHotEncoder\n",
    "from sklearn.metrics import root_mean_squared_error\n",
    "# from sklearn.model_selection import train_test_split\n",
    "from scipy.stats.mstats import winsorize\n",
    "from scipy.stats import  shapiro\n",
    "from surprise import SVD, Dataset, Reader\n",
    "from surprise.model_selection import train_test_split \n",
    "from surprise.accuracy import rmse\n",
    "#from feature_engine.outliers import winsorizers"
   ]
  },
  {
   "cell_type": "code",
   "execution_count": null,
   "metadata": {},
   "outputs": [
    {
     "data": {
      "text/html": [
       "<div>\n",
       "<style scoped>\n",
       "    .dataframe tbody tr th:only-of-type {\n",
       "        vertical-align: middle;\n",
       "    }\n",
       "\n",
       "    .dataframe tbody tr th {\n",
       "        vertical-align: top;\n",
       "    }\n",
       "\n",
       "    .dataframe thead th {\n",
       "        text-align: right;\n",
       "    }\n",
       "</style>\n",
       "<table border=\"1\" class=\"dataframe\">\n",
       "  <thead>\n",
       "    <tr style=\"text-align: right;\">\n",
       "      <th></th>\n",
       "      <th>Unnamed: 0</th>\n",
       "      <th>User_Id</th>\n",
       "      <th>Movie_Name</th>\n",
       "      <th>Rating</th>\n",
       "      <th>Genre</th>\n",
       "    </tr>\n",
       "  </thead>\n",
       "  <tbody>\n",
       "    <tr>\n",
       "      <th>0</th>\n",
       "      <td>0</td>\n",
       "      <td>1</td>\n",
       "      <td>Pulp Fiction (1994)</td>\n",
       "      <td>5.0</td>\n",
       "      <td>Comedy|Crime|Drama|Thriller</td>\n",
       "    </tr>\n",
       "    <tr>\n",
       "      <th>1</th>\n",
       "      <td>1</td>\n",
       "      <td>1</td>\n",
       "      <td>Three Colors: Red (Trois couleurs: Rouge) (1994)</td>\n",
       "      <td>3.5</td>\n",
       "      <td>Drama</td>\n",
       "    </tr>\n",
       "    <tr>\n",
       "      <th>2</th>\n",
       "      <td>2</td>\n",
       "      <td>1</td>\n",
       "      <td>Three Colors: Blue (Trois couleurs: Bleu) (1993)</td>\n",
       "      <td>5.0</td>\n",
       "      <td>Drama</td>\n",
       "    </tr>\n",
       "    <tr>\n",
       "      <th>3</th>\n",
       "      <td>3</td>\n",
       "      <td>1</td>\n",
       "      <td>Underground (1995)</td>\n",
       "      <td>5.0</td>\n",
       "      <td>Comedy|Drama|War</td>\n",
       "    </tr>\n",
       "    <tr>\n",
       "      <th>4</th>\n",
       "      <td>4</td>\n",
       "      <td>1</td>\n",
       "      <td>Singin' in the Rain (1952)</td>\n",
       "      <td>3.5</td>\n",
       "      <td>Comedy|Musical|Romance</td>\n",
       "    </tr>\n",
       "    <tr>\n",
       "      <th>5</th>\n",
       "      <td>5</td>\n",
       "      <td>1</td>\n",
       "      <td>Dirty Dancing (1987)</td>\n",
       "      <td>4.0</td>\n",
       "      <td>Drama|Musical|Romance</td>\n",
       "    </tr>\n",
       "    <tr>\n",
       "      <th>6</th>\n",
       "      <td>6</td>\n",
       "      <td>1</td>\n",
       "      <td>Delicatessen (1991)</td>\n",
       "      <td>3.5</td>\n",
       "      <td>Comedy|Drama|Romance</td>\n",
       "    </tr>\n",
       "    <tr>\n",
       "      <th>7</th>\n",
       "      <td>7</td>\n",
       "      <td>1</td>\n",
       "      <td>Ran (1985)</td>\n",
       "      <td>3.5</td>\n",
       "      <td>Drama|War</td>\n",
       "    </tr>\n",
       "    <tr>\n",
       "      <th>8</th>\n",
       "      <td>8</td>\n",
       "      <td>1</td>\n",
       "      <td>Seventh Seal, The (Sjunde inseglet, Det) (1957)</td>\n",
       "      <td>5.0</td>\n",
       "      <td>Drama</td>\n",
       "    </tr>\n",
       "    <tr>\n",
       "      <th>9</th>\n",
       "      <td>9</td>\n",
       "      <td>1</td>\n",
       "      <td>Bridge on the River Kwai, The (1957)</td>\n",
       "      <td>4.0</td>\n",
       "      <td>Adventure|Drama|War</td>\n",
       "    </tr>\n",
       "  </tbody>\n",
       "</table>\n",
       "</div>"
      ],
      "text/plain": [
       "   Unnamed: 0  User_Id                                        Movie_Name  \\\n",
       "0           0        1                               Pulp Fiction (1994)   \n",
       "1           1        1  Three Colors: Red (Trois couleurs: Rouge) (1994)   \n",
       "2           2        1  Three Colors: Blue (Trois couleurs: Bleu) (1993)   \n",
       "3           3        1                                Underground (1995)   \n",
       "4           4        1                        Singin' in the Rain (1952)   \n",
       "5           5        1                              Dirty Dancing (1987)   \n",
       "6           6        1                               Delicatessen (1991)   \n",
       "7           7        1                                        Ran (1985)   \n",
       "8           8        1   Seventh Seal, The (Sjunde inseglet, Det) (1957)   \n",
       "9           9        1              Bridge on the River Kwai, The (1957)   \n",
       "\n",
       "   Rating                        Genre  \n",
       "0     5.0  Comedy|Crime|Drama|Thriller  \n",
       "1     3.5                        Drama  \n",
       "2     5.0                        Drama  \n",
       "3     5.0             Comedy|Drama|War  \n",
       "4     3.5       Comedy|Musical|Romance  \n",
       "5     4.0        Drama|Musical|Romance  \n",
       "6     3.5         Comedy|Drama|Romance  \n",
       "7     3.5                    Drama|War  \n",
       "8     5.0                        Drama  \n",
       "9     4.0          Adventure|Drama|War  "
      ]
     },
     "execution_count": 6,
     "metadata": {},
     "output_type": "execute_result"
    }
   ],
   "source": [
    "df = pd.read_csv(\"C:/Users/NicholasAH/OneDrive - Bina Nusantara/KULIAHHHHHH/Machine Learning/movies_dataset.csv/movies_dataset.csv\")\n",
    "df.head(10)"
   ]
  },
  {
   "cell_type": "code",
   "execution_count": 7,
   "metadata": {},
   "outputs": [],
   "source": [
    "df = df.drop(columns = ['Unnamed: 0'])"
   ]
  },
  {
   "cell_type": "code",
   "execution_count": 8,
   "metadata": {},
   "outputs": [
    {
     "name": "stdout",
     "output_type": "stream",
     "text": [
      "['User_Id', 'Rating']\n",
      "['Movie_Name', 'Genre']\n"
     ]
    }
   ],
   "source": [
    "num_cols = []\n",
    "cat_cols = []\n",
    "\n",
    "for i in df.columns :\n",
    "    if 'int' in str(df[i].dtype) or 'float' in str(df[i].dtype):\n",
    "        num_cols.append(i)\n",
    "    else :\n",
    "        cat_cols.append(i)\n",
    "print(num_cols)\n",
    "print(cat_cols)"
   ]
  },
  {
   "cell_type": "code",
   "execution_count": 9,
   "metadata": {},
   "outputs": [],
   "source": [
    "import re\n",
    "\n",
    "def clean_title(title):\n",
    "    return re.sub(\"[^a-zA-Z0-9 ]\", \"\", title)"
   ]
  },
  {
   "cell_type": "code",
   "execution_count": 10,
   "metadata": {},
   "outputs": [],
   "source": [
    "df['Movie_Title'] = df['Movie_Name'].apply(clean_title)"
   ]
  },
  {
   "cell_type": "code",
   "execution_count": 11,
   "metadata": {},
   "outputs": [
    {
     "data": {
      "text/html": [
       "<div>\n",
       "<style scoped>\n",
       "    .dataframe tbody tr th:only-of-type {\n",
       "        vertical-align: middle;\n",
       "    }\n",
       "\n",
       "    .dataframe tbody tr th {\n",
       "        vertical-align: top;\n",
       "    }\n",
       "\n",
       "    .dataframe thead th {\n",
       "        text-align: right;\n",
       "    }\n",
       "</style>\n",
       "<table border=\"1\" class=\"dataframe\">\n",
       "  <thead>\n",
       "    <tr style=\"text-align: right;\">\n",
       "      <th></th>\n",
       "      <th>User_Id</th>\n",
       "      <th>Movie_Name</th>\n",
       "      <th>Rating</th>\n",
       "      <th>Genre</th>\n",
       "      <th>Movie_Title</th>\n",
       "    </tr>\n",
       "  </thead>\n",
       "  <tbody>\n",
       "    <tr>\n",
       "      <th>0</th>\n",
       "      <td>1</td>\n",
       "      <td>Pulp Fiction (1994)</td>\n",
       "      <td>5.0</td>\n",
       "      <td>Comedy|Crime|Drama|Thriller</td>\n",
       "      <td>Pulp Fiction 1994</td>\n",
       "    </tr>\n",
       "    <tr>\n",
       "      <th>1</th>\n",
       "      <td>1</td>\n",
       "      <td>Three Colors: Red (Trois couleurs: Rouge) (1994)</td>\n",
       "      <td>3.5</td>\n",
       "      <td>Drama</td>\n",
       "      <td>Three Colors Red Trois couleurs Rouge 1994</td>\n",
       "    </tr>\n",
       "    <tr>\n",
       "      <th>2</th>\n",
       "      <td>1</td>\n",
       "      <td>Three Colors: Blue (Trois couleurs: Bleu) (1993)</td>\n",
       "      <td>5.0</td>\n",
       "      <td>Drama</td>\n",
       "      <td>Three Colors Blue Trois couleurs Bleu 1993</td>\n",
       "    </tr>\n",
       "    <tr>\n",
       "      <th>3</th>\n",
       "      <td>1</td>\n",
       "      <td>Underground (1995)</td>\n",
       "      <td>5.0</td>\n",
       "      <td>Comedy|Drama|War</td>\n",
       "      <td>Underground 1995</td>\n",
       "    </tr>\n",
       "    <tr>\n",
       "      <th>4</th>\n",
       "      <td>1</td>\n",
       "      <td>Singin' in the Rain (1952)</td>\n",
       "      <td>3.5</td>\n",
       "      <td>Comedy|Musical|Romance</td>\n",
       "      <td>Singin in the Rain 1952</td>\n",
       "    </tr>\n",
       "    <tr>\n",
       "      <th>...</th>\n",
       "      <td>...</td>\n",
       "      <td>...</td>\n",
       "      <td>...</td>\n",
       "      <td>...</td>\n",
       "      <td>...</td>\n",
       "    </tr>\n",
       "    <tr>\n",
       "      <th>25000090</th>\n",
       "      <td>162541</td>\n",
       "      <td>Ratatouille (2007)</td>\n",
       "      <td>4.5</td>\n",
       "      <td>Animation|Children|Drama</td>\n",
       "      <td>Ratatouille 2007</td>\n",
       "    </tr>\n",
       "    <tr>\n",
       "      <th>25000091</th>\n",
       "      <td>162541</td>\n",
       "      <td>Bee Movie (2007)</td>\n",
       "      <td>2.5</td>\n",
       "      <td>Animation|Comedy</td>\n",
       "      <td>Bee Movie 2007</td>\n",
       "    </tr>\n",
       "    <tr>\n",
       "      <th>25000092</th>\n",
       "      <td>162541</td>\n",
       "      <td>Alvin and the Chipmunks (2007)</td>\n",
       "      <td>2.0</td>\n",
       "      <td>Children|Comedy</td>\n",
       "      <td>Alvin and the Chipmunks 2007</td>\n",
       "    </tr>\n",
       "    <tr>\n",
       "      <th>25000093</th>\n",
       "      <td>162541</td>\n",
       "      <td>Dark Knight, The (2008)</td>\n",
       "      <td>4.0</td>\n",
       "      <td>Action|Crime|Drama|IMAX</td>\n",
       "      <td>Dark Knight The 2008</td>\n",
       "    </tr>\n",
       "    <tr>\n",
       "      <th>25000094</th>\n",
       "      <td>162541</td>\n",
       "      <td>Milk (2008)</td>\n",
       "      <td>5.0</td>\n",
       "      <td>Drama</td>\n",
       "      <td>Milk 2008</td>\n",
       "    </tr>\n",
       "  </tbody>\n",
       "</table>\n",
       "<p>25000095 rows × 5 columns</p>\n",
       "</div>"
      ],
      "text/plain": [
       "          User_Id                                        Movie_Name  Rating  \\\n",
       "0               1                               Pulp Fiction (1994)     5.0   \n",
       "1               1  Three Colors: Red (Trois couleurs: Rouge) (1994)     3.5   \n",
       "2               1  Three Colors: Blue (Trois couleurs: Bleu) (1993)     5.0   \n",
       "3               1                                Underground (1995)     5.0   \n",
       "4               1                        Singin' in the Rain (1952)     3.5   \n",
       "...           ...                                               ...     ...   \n",
       "25000090   162541                                Ratatouille (2007)     4.5   \n",
       "25000091   162541                                  Bee Movie (2007)     2.5   \n",
       "25000092   162541                    Alvin and the Chipmunks (2007)     2.0   \n",
       "25000093   162541                           Dark Knight, The (2008)     4.0   \n",
       "25000094   162541                                       Milk (2008)     5.0   \n",
       "\n",
       "                                Genre  \\\n",
       "0         Comedy|Crime|Drama|Thriller   \n",
       "1                               Drama   \n",
       "2                               Drama   \n",
       "3                    Comedy|Drama|War   \n",
       "4              Comedy|Musical|Romance   \n",
       "...                               ...   \n",
       "25000090     Animation|Children|Drama   \n",
       "25000091             Animation|Comedy   \n",
       "25000092              Children|Comedy   \n",
       "25000093      Action|Crime|Drama|IMAX   \n",
       "25000094                        Drama   \n",
       "\n",
       "                                         Movie_Title  \n",
       "0                                  Pulp Fiction 1994  \n",
       "1         Three Colors Red Trois couleurs Rouge 1994  \n",
       "2         Three Colors Blue Trois couleurs Bleu 1993  \n",
       "3                                   Underground 1995  \n",
       "4                            Singin in the Rain 1952  \n",
       "...                                              ...  \n",
       "25000090                            Ratatouille 2007  \n",
       "25000091                              Bee Movie 2007  \n",
       "25000092                Alvin and the Chipmunks 2007  \n",
       "25000093                        Dark Knight The 2008  \n",
       "25000094                                   Milk 2008  \n",
       "\n",
       "[25000095 rows x 5 columns]"
      ]
     },
     "execution_count": 11,
     "metadata": {},
     "output_type": "execute_result"
    }
   ],
   "source": [
    "df"
   ]
  },
  {
   "cell_type": "code",
   "execution_count": 12,
   "metadata": {},
   "outputs": [
    {
     "data": {
      "text/plain": [
       "User_Id        0\n",
       "Movie_Name     0\n",
       "Rating         0\n",
       "Genre          0\n",
       "Movie_Title    0\n",
       "dtype: int64"
      ]
     },
     "execution_count": 12,
     "metadata": {},
     "output_type": "execute_result"
    }
   ],
   "source": [
    "df.isnull().sum()"
   ]
  },
  {
   "cell_type": "code",
   "execution_count": 13,
   "metadata": {},
   "outputs": [
    {
     "data": {
      "text/plain": [
       "15"
      ]
     },
     "execution_count": 13,
     "metadata": {},
     "output_type": "execute_result"
    }
   ],
   "source": [
    "df.duplicated().sum()"
   ]
  },
  {
   "cell_type": "code",
   "execution_count": 14,
   "metadata": {},
   "outputs": [],
   "source": [
    "df.drop_duplicates(inplace=True)"
   ]
  },
  {
   "cell_type": "code",
   "execution_count": 15,
   "metadata": {},
   "outputs": [
    {
     "name": "stdout",
     "output_type": "stream",
     "text": [
      "Categorical: ['Movie_Name', 'Genre', 'Movie_Title']\n",
      "Numeric: ['User_Id', 'Rating']\n"
     ]
    }
   ],
   "source": [
    "cat_cols = []\n",
    "num_cols = []\n",
    "\n",
    "for i in df.columns:\n",
    "    # print(str(df[i].dtype))\n",
    "    if 'int' in str(df[i].dtype) or 'float' in str(df[i].dtype):\n",
    "        num_cols.append(i)\n",
    "    else:\n",
    "        cat_cols.append(i)\n",
    "\n",
    "print(f'Categorical: {cat_cols}')\n",
    "print(f'Numeric: {num_cols}')"
   ]
  },
  {
   "cell_type": "markdown",
   "metadata": {},
   "source": [
    "## Label encoding for 'Movie_Name' and 'Genre'"
   ]
  },
  {
   "cell_type": "code",
   "execution_count": 16,
   "metadata": {},
   "outputs": [],
   "source": [
    "label_encode = LabelEncoder()\n",
    "mlb = MultiLabelBinarizer()\n",
    "\n",
    "df['User_Id'] = label_encode.fit_transform(df['User_Id'])\n",
    "df = df.join(pd.DataFrame(mlb.fit_transform(df.pop('Genre').str.split('|')), columns= mlb.classes_, index= df.index))"
   ]
  },
  {
   "cell_type": "code",
   "execution_count": 17,
   "metadata": {},
   "outputs": [
    {
     "data": {
      "text/html": [
       "<div>\n",
       "<style scoped>\n",
       "    .dataframe tbody tr th:only-of-type {\n",
       "        vertical-align: middle;\n",
       "    }\n",
       "\n",
       "    .dataframe tbody tr th {\n",
       "        vertical-align: top;\n",
       "    }\n",
       "\n",
       "    .dataframe thead th {\n",
       "        text-align: right;\n",
       "    }\n",
       "</style>\n",
       "<table border=\"1\" class=\"dataframe\">\n",
       "  <thead>\n",
       "    <tr style=\"text-align: right;\">\n",
       "      <th></th>\n",
       "      <th>User_Id</th>\n",
       "      <th>Movie_Name</th>\n",
       "      <th>Rating</th>\n",
       "      <th>Movie_Title</th>\n",
       "      <th>Action</th>\n",
       "      <th>Adventure</th>\n",
       "      <th>Animation</th>\n",
       "      <th>Children</th>\n",
       "      <th>Comedy</th>\n",
       "      <th>Crime</th>\n",
       "      <th>...</th>\n",
       "      <th>Film-Noir</th>\n",
       "      <th>Horror</th>\n",
       "      <th>IMAX</th>\n",
       "      <th>Musical</th>\n",
       "      <th>Mystery</th>\n",
       "      <th>Romance</th>\n",
       "      <th>Sci-Fi</th>\n",
       "      <th>Thriller</th>\n",
       "      <th>War</th>\n",
       "      <th>Western</th>\n",
       "    </tr>\n",
       "  </thead>\n",
       "  <tbody>\n",
       "    <tr>\n",
       "      <th>0</th>\n",
       "      <td>0</td>\n",
       "      <td>Pulp Fiction (1994)</td>\n",
       "      <td>5.0</td>\n",
       "      <td>Pulp Fiction 1994</td>\n",
       "      <td>0</td>\n",
       "      <td>0</td>\n",
       "      <td>0</td>\n",
       "      <td>0</td>\n",
       "      <td>1</td>\n",
       "      <td>1</td>\n",
       "      <td>...</td>\n",
       "      <td>0</td>\n",
       "      <td>0</td>\n",
       "      <td>0</td>\n",
       "      <td>0</td>\n",
       "      <td>0</td>\n",
       "      <td>0</td>\n",
       "      <td>0</td>\n",
       "      <td>1</td>\n",
       "      <td>0</td>\n",
       "      <td>0</td>\n",
       "    </tr>\n",
       "    <tr>\n",
       "      <th>1</th>\n",
       "      <td>0</td>\n",
       "      <td>Three Colors: Red (Trois couleurs: Rouge) (1994)</td>\n",
       "      <td>3.5</td>\n",
       "      <td>Three Colors Red Trois couleurs Rouge 1994</td>\n",
       "      <td>0</td>\n",
       "      <td>0</td>\n",
       "      <td>0</td>\n",
       "      <td>0</td>\n",
       "      <td>0</td>\n",
       "      <td>0</td>\n",
       "      <td>...</td>\n",
       "      <td>0</td>\n",
       "      <td>0</td>\n",
       "      <td>0</td>\n",
       "      <td>0</td>\n",
       "      <td>0</td>\n",
       "      <td>0</td>\n",
       "      <td>0</td>\n",
       "      <td>0</td>\n",
       "      <td>0</td>\n",
       "      <td>0</td>\n",
       "    </tr>\n",
       "    <tr>\n",
       "      <th>2</th>\n",
       "      <td>0</td>\n",
       "      <td>Three Colors: Blue (Trois couleurs: Bleu) (1993)</td>\n",
       "      <td>5.0</td>\n",
       "      <td>Three Colors Blue Trois couleurs Bleu 1993</td>\n",
       "      <td>0</td>\n",
       "      <td>0</td>\n",
       "      <td>0</td>\n",
       "      <td>0</td>\n",
       "      <td>0</td>\n",
       "      <td>0</td>\n",
       "      <td>...</td>\n",
       "      <td>0</td>\n",
       "      <td>0</td>\n",
       "      <td>0</td>\n",
       "      <td>0</td>\n",
       "      <td>0</td>\n",
       "      <td>0</td>\n",
       "      <td>0</td>\n",
       "      <td>0</td>\n",
       "      <td>0</td>\n",
       "      <td>0</td>\n",
       "    </tr>\n",
       "    <tr>\n",
       "      <th>3</th>\n",
       "      <td>0</td>\n",
       "      <td>Underground (1995)</td>\n",
       "      <td>5.0</td>\n",
       "      <td>Underground 1995</td>\n",
       "      <td>0</td>\n",
       "      <td>0</td>\n",
       "      <td>0</td>\n",
       "      <td>0</td>\n",
       "      <td>1</td>\n",
       "      <td>0</td>\n",
       "      <td>...</td>\n",
       "      <td>0</td>\n",
       "      <td>0</td>\n",
       "      <td>0</td>\n",
       "      <td>0</td>\n",
       "      <td>0</td>\n",
       "      <td>0</td>\n",
       "      <td>0</td>\n",
       "      <td>0</td>\n",
       "      <td>1</td>\n",
       "      <td>0</td>\n",
       "    </tr>\n",
       "    <tr>\n",
       "      <th>4</th>\n",
       "      <td>0</td>\n",
       "      <td>Singin' in the Rain (1952)</td>\n",
       "      <td>3.5</td>\n",
       "      <td>Singin in the Rain 1952</td>\n",
       "      <td>0</td>\n",
       "      <td>0</td>\n",
       "      <td>0</td>\n",
       "      <td>0</td>\n",
       "      <td>1</td>\n",
       "      <td>0</td>\n",
       "      <td>...</td>\n",
       "      <td>0</td>\n",
       "      <td>0</td>\n",
       "      <td>0</td>\n",
       "      <td>1</td>\n",
       "      <td>0</td>\n",
       "      <td>1</td>\n",
       "      <td>0</td>\n",
       "      <td>0</td>\n",
       "      <td>0</td>\n",
       "      <td>0</td>\n",
       "    </tr>\n",
       "  </tbody>\n",
       "</table>\n",
       "<p>5 rows × 23 columns</p>\n",
       "</div>"
      ],
      "text/plain": [
       "   User_Id                                        Movie_Name  Rating  \\\n",
       "0        0                               Pulp Fiction (1994)     5.0   \n",
       "1        0  Three Colors: Red (Trois couleurs: Rouge) (1994)     3.5   \n",
       "2        0  Three Colors: Blue (Trois couleurs: Bleu) (1993)     5.0   \n",
       "3        0                                Underground (1995)     5.0   \n",
       "4        0                        Singin' in the Rain (1952)     3.5   \n",
       "\n",
       "                                  Movie_Title  Action  Adventure  Animation  \\\n",
       "0                           Pulp Fiction 1994       0          0          0   \n",
       "1  Three Colors Red Trois couleurs Rouge 1994       0          0          0   \n",
       "2  Three Colors Blue Trois couleurs Bleu 1993       0          0          0   \n",
       "3                            Underground 1995       0          0          0   \n",
       "4                     Singin in the Rain 1952       0          0          0   \n",
       "\n",
       "   Children  Comedy  Crime  ...  Film-Noir  Horror  IMAX  Musical  Mystery  \\\n",
       "0         0       1      1  ...          0       0     0        0        0   \n",
       "1         0       0      0  ...          0       0     0        0        0   \n",
       "2         0       0      0  ...          0       0     0        0        0   \n",
       "3         0       1      0  ...          0       0     0        0        0   \n",
       "4         0       1      0  ...          0       0     0        1        0   \n",
       "\n",
       "   Romance  Sci-Fi  Thriller  War  Western  \n",
       "0        0       0         1    0        0  \n",
       "1        0       0         0    0        0  \n",
       "2        0       0         0    0        0  \n",
       "3        0       0         0    1        0  \n",
       "4        1       0         0    0        0  \n",
       "\n",
       "[5 rows x 23 columns]"
      ]
     },
     "execution_count": 17,
     "metadata": {},
     "output_type": "execute_result"
    }
   ],
   "source": [
    "df.drop(columns=\"(no genres listed)\", inplace= True)\n",
    "df.head()"
   ]
  },
  {
   "cell_type": "code",
   "execution_count": 18,
   "metadata": {},
   "outputs": [],
   "source": [
    "# df.drop(columns=\"Movie_Name\", inplace= True)"
   ]
  },
  {
   "cell_type": "markdown",
   "metadata": {},
   "source": [
    "## DATA SPLITTING\n"
   ]
  },
  {
   "cell_type": "code",
   "execution_count": 19,
   "metadata": {},
   "outputs": [],
   "source": [
    "reader = Reader(rating_scale=(0.5, 5)) \n",
    "data = Dataset.load_from_df(df[['User_Id', 'Movie_Title', 'Rating']], reader)\n",
    "\n",
    "trainset, testset = train_test_split(data, test_size=0.2, random_state=42)\n"
   ]
  },
  {
   "cell_type": "markdown",
   "metadata": {},
   "source": [
    " Kami memakai algoritma SVD karena faktorisasi amtrix dalam sebuah rekomendasi sistem lebih lancar ketika menggunakan SVD. Khususnya dalam prediksi item kepada user berdasarkan rating dan feature lainnya"
   ]
  },
  {
   "cell_type": "code",
   "execution_count": 20,
   "metadata": {},
   "outputs": [],
   "source": [
    "model = SVD()\n",
    "model.fit(trainset)\n",
    "\n",
    "predictions = model.test(testset)\n"
   ]
  },
  {
   "cell_type": "code",
   "execution_count": 21,
   "metadata": {},
   "outputs": [],
   "source": [
    "df = df.drop_duplicates(subset=['Movie_Title'])\n",
    "# unrated_movies = list(set(movie for movie in all_movies if movie not in rated_movies))\n"
   ]
  },
  {
   "cell_type": "markdown",
   "metadata": {},
   "source": [
    "Membuat sebuah dataset yang berisikan film2"
   ]
  },
  {
   "cell_type": "code",
   "execution_count": 22,
   "metadata": {},
   "outputs": [],
   "source": [
    "# Extract all unique movie IDs (or titles) from the dataset\n",
    "all_movies = df['Movie_Title'].unique().tolist()"
   ]
  },
  {
   "cell_type": "markdown",
   "metadata": {},
   "source": [
    "Membuat sebuah function yang menghasilkan rekomendasi film kepada user dengan memberikan id user, lalu sistem akan membuat prediksi movie berdasarkan feature2 yang telah diberikan sehingga akan memberikan 5 film yang cocok dengan behaviour user target seccara personal"
   ]
  },
  {
   "cell_type": "code",
   "execution_count": 23,
   "metadata": {},
   "outputs": [],
   "source": [
    "def get_top_recommendations(user_id, n=5):\n",
    "    # List of movies the user has already rated\n",
    "    rated_movies = df[df['User_Id'] == user_id]['Movie_Title'].tolist()\n",
    "\n",
    "    # Movies the user has not yet rated\n",
    "    unrated_movies = [movie for movie in all_movies if movie not in rated_movies]\n",
    "\n",
    "    # Create user-movie pairs for prediction\n",
    "    user_movie_pairs = [(user_id, movie, 0) for movie in unrated_movies]\n",
    "\n",
    "    # Get predictions for unrated movies\n",
    "    collaborative_predictions = model.test(user_movie_pairs)\n",
    "\n",
    "    # Sort predictions by estimated rating in descending order\n",
    "    top_n_recommendations = sorted(collaborative_predictions, key=lambda x: x.est, reverse=True)[:n]\n",
    "\n",
    "    # Extract the movie IDs (titles or identifiers) for the top recommendations\n",
    "    top_n_movie_ids = [pred.iid for pred in top_n_recommendations]\n",
    "    \n",
    "    return top_n_movie_ids\n"
   ]
  },
  {
   "cell_type": "markdown",
   "metadata": {},
   "source": [
    "Contoh penggunaan sistem"
   ]
  },
  {
   "cell_type": "code",
   "execution_count": 24,
   "metadata": {},
   "outputs": [
    {
     "name": "stdout",
     "output_type": "stream",
     "text": [
      "1. Zeitgeist The Movie 2007\n",
      "2. Band of Brothers 2001\n",
      "3. Last Lions The 2011\n",
      "4. Rocks Das Rad 2003\n",
      "5. Mermaid 1997\n"
     ]
    }
   ],
   "source": [
    "from re import U\n",
    "\n",
    "# Get recommendations for a user\n",
    "user_id = 1002\n",
    "recommendations = get_top_recommendations(user_id)\n",
    "\n",
    "# Display recommended movie titles\n",
    "top_n_movies_title = df[df['Movie_Title'].isin(recommendations)]['Movie_Title'].head(5)\n",
    "\n",
    "for i, title in enumerate(top_n_movies_title, 1):\n",
    "    print(f\"{i}. {title}\")\n"
   ]
  },
  {
   "cell_type": "markdown",
   "metadata": {},
   "source": [
    "Membandingkan Baseline dengan Proposed Model"
   ]
  },
  {
   "cell_type": "code",
   "execution_count": 25,
   "metadata": {},
   "outputs": [
    {
     "name": "stdout",
     "output_type": "stream",
     "text": [
      "Baseline RMSE: 1.1271181015019391\n",
      "SVD RMSE: 0.7776788408661067\n"
     ]
    }
   ],
   "source": [
    "# Baseline model: Global average rating\n",
    "global_average = df['Rating'].mean()\n",
    "\n",
    "# Evaluate baseline predictions\n",
    "baseline_predictions = []\n",
    "for _, row in df.iterrows():\n",
    "    baseline_predictions.append(global_average)\n",
    "\n",
    "# Compare RMSE of baseline and SVD\n",
    "from sklearn.metrics import mean_squared_error\n",
    "from math import sqrt\n",
    "\n",
    "rmse_baseline = sqrt(mean_squared_error(df['Rating'], baseline_predictions))\n",
    "print(f\"Baseline RMSE: {rmse_baseline}\")\n",
    "\n",
    "svd_rmse = rmse(predictions, verbose=False)\n",
    "print(f\"SVD RMSE: {svd_rmse}\")"
   ]
  },
  {
   "cell_type": "markdown",
   "metadata": {},
   "source": [
    "Konklusi & Perbandingan"
   ]
  },
  {
   "cell_type": "markdown",
   "metadata": {},
   "source": [
    "Dapat terlihat bahwa Baseline model memiliki RMSE yang lebih tinggi bila dibandingkan dengan model yang telah kami buat, RMSE merupakan Root Mean Squared Error yang mengukur kesalahan prediksi dalam suatu model. Dapat dilihat bahwa model kami memiliki RMSE sebesar 0.7776 yang menandakan bahwa model kami lebih akurat dalam memprediksi film bagi user bila dibandingkan dengan model yang dimiliki oleh baseline."
   ]
  },
  {
   "cell_type": "markdown",
   "metadata": {},
   "source": [
    "Tantangan : Dataset ini memiliki feature yang sedikit untuk memprediksi masing2 behaviour dari user2, namun jumlah dataset yang besar menjadi sebuah keuntungan karena model dapat belajar dari berbagai tipe judul dan rating yang telah ditonton oleh masing-masing user sehingga ia dapat memprediksi movie yang disukai oleh user tertentu."
   ]
  },
  {
   "cell_type": "markdown",
   "metadata": {},
   "source": [
    "Future Works : Berbagai perusahaan terutama industri per-filman pasti akan menggunakan model tip2 seperti ini untuk memprediksi, mengevaluasi, dan melakukan market research. \n",
    "    Bagi perusahaan pengedar fil seperti Netflix,disney,etc, mereka akan menggunakan ini sebagai alat untuk merekomendasikan film kepada user2 mereka sehingga pengalaman menonton menjadi lebih baik.  \n",
    "    Bagi para produser dan filmmaker, model seperti ini dapat berguna untuk memutuskan genre apa yang dapat menghasilkan revenue dan menggapai pasar yang lebih besar."
   ]
  }
 ],
 "metadata": {
  "kernelspec": {
   "display_name": "base",
   "language": "python",
   "name": "python3"
  },
  "language_info": {
   "codemirror_mode": {
    "name": "ipython",
    "version": 3
   },
   "file_extension": ".py",
   "mimetype": "text/x-python",
   "name": "python",
   "nbconvert_exporter": "python",
   "pygments_lexer": "ipython3",
   "version": "3.12.3"
  }
 },
 "nbformat": 4,
 "nbformat_minor": 2
}
